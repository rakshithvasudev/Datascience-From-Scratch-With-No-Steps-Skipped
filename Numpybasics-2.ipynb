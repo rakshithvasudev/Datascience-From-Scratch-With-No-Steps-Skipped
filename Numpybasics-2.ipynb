{
 "cells": [
  {
   "cell_type": "code",
   "execution_count": 1,
   "metadata": {
    "collapsed": true
   },
   "outputs": [],
   "source": [
    "import numpy as np"
   ]
  },
  {
   "cell_type": "code",
   "execution_count": 2,
   "metadata": {},
   "outputs": [
    {
     "data": {
      "text/plain": [
       "array([ 5,  7,  9, 11, 13])"
      ]
     },
     "execution_count": 2,
     "metadata": {},
     "output_type": "execute_result"
    }
   ],
   "source": [
    "A = np.arange(5,15,2)\n",
    "A "
   ]
  },
  {
   "cell_type": "code",
   "execution_count": 3,
   "metadata": {},
   "outputs": [
    {
     "data": {
      "text/plain": [
       "array([19, 22, 25, 28, 31])"
      ]
     },
     "execution_count": 3,
     "metadata": {},
     "output_type": "execute_result"
    }
   ],
   "source": [
    "B = np.arange(19,33,3)\n",
    "B"
   ]
  },
  {
   "cell_type": "code",
   "execution_count": 6,
   "metadata": {},
   "outputs": [
    {
     "data": {
      "text/plain": [
       "array([[ 0.43385691,  0.15503296,  0.19860119,  0.65346609,  0.16774261,\n",
       "         0.56058978,  0.84974275,  0.05887681,  0.27276929,  0.88750259,\n",
       "         0.25141674,  0.05663906,  0.54186252],\n",
       "       [ 0.2635477 ,  0.88291404,  0.42043263,  0.83565607,  0.92982761,\n",
       "         0.79879409,  0.91323242,  0.37954769,  0.60198588,  0.44773903,\n",
       "         0.70699903,  0.3892703 ,  0.94314732],\n",
       "       [ 0.12593268,  0.97838364,  0.81297353,  0.3368167 ,  0.33501746,\n",
       "         0.99619471,  0.22476839,  0.93321408,  0.41301684,  0.01808732,\n",
       "         0.61321647,  0.22462791,  0.468457  ],\n",
       "       [ 0.63765001,  0.13884884,  0.67648642,  0.65589694,  0.80931411,\n",
       "         0.46202022,  0.40819602,  0.03863341,  0.16494124,  0.69603883,\n",
       "         0.96849077,  0.19150476,  0.8968954 ],\n",
       "       [ 0.25646945,  0.21928867,  0.70952192,  0.80569537,  0.84562245,\n",
       "         0.54595757,  0.00684613,  0.19142737,  0.94387805,  0.80871064,\n",
       "         0.73648968,  0.80105002,  0.16716087],\n",
       "       [ 0.3894393 ,  0.61933361,  0.41088568,  0.88781578,  0.40932049,\n",
       "         0.90947387,  0.71984125,  0.81259019,  0.69020009,  0.56480145,\n",
       "         0.43041522,  0.02650665,  0.7738148 ],\n",
       "       [ 0.21326808,  0.2036178 ,  0.30368209,  0.51081501,  0.64345557,\n",
       "         0.99061654,  0.96805793,  0.19446453,  0.25974565,  0.74033622,\n",
       "         0.37379014,  0.67444828,  0.82899251],\n",
       "       [ 0.47571066,  0.82012796,  0.50881338,  0.3900192 ,  0.34356749,\n",
       "         0.36440024,  0.58048805,  0.74650051,  0.24974157,  0.70129048,\n",
       "         0.99920892,  0.29142188,  0.09263266],\n",
       "       [ 0.4140815 ,  0.25578684,  0.5485647 ,  0.07581615,  0.28539059,\n",
       "         0.93805043,  0.56897052,  0.23606972,  0.78568646,  0.609795  ,\n",
       "         0.70741831,  0.51003452,  0.53791667],\n",
       "       [ 0.53967367,  0.78513565,  0.94739241,  0.03891731,  0.15962705,\n",
       "         0.45470422,  0.56172944,  0.49735169,  0.35216862,  0.87391629,\n",
       "         0.43953245,  0.18160601,  0.78307107],\n",
       "       [ 0.1725005 ,  0.89132449,  0.05287284,  0.2113003 ,  0.69802999,\n",
       "         0.12609322,  0.83490382,  0.34199806,  0.90740966,  0.33934554,\n",
       "         0.02015816,  0.13498658,  0.06695927],\n",
       "       [ 0.14066135,  0.34828447,  0.0780561 ,  0.00126867,  0.57958087,\n",
       "         0.93641585,  0.70294758,  0.21712057,  0.24902555,  0.53284372,\n",
       "         0.19795993,  0.69817631,  0.71156616]])"
      ]
     },
     "execution_count": 6,
     "metadata": {},
     "output_type": "execute_result"
    }
   ],
   "source": [
    "np.random.rand(12,13)"
   ]
  },
  {
   "cell_type": "code",
   "execution_count": 7,
   "metadata": {},
   "outputs": [
    {
     "data": {
      "text/plain": [
       "array([ 5,  7,  9, 11, 13])"
      ]
     },
     "execution_count": 7,
     "metadata": {},
     "output_type": "execute_result"
    }
   ],
   "source": [
    "A"
   ]
  },
  {
   "cell_type": "code",
   "execution_count": 8,
   "metadata": {},
   "outputs": [
    {
     "data": {
      "text/plain": [
       "array([ 5,  7,  9, 11, 13, 19])"
      ]
     },
     "execution_count": 8,
     "metadata": {},
     "output_type": "execute_result"
    }
   ],
   "source": [
    "A = np.append(A,19)\n",
    "A"
   ]
  },
  {
   "cell_type": "code",
   "execution_count": 9,
   "metadata": {},
   "outputs": [
    {
     "data": {
      "text/plain": [
       "array([  5,   7,   9,  11,  13,  19,   3,  55,  34, 553])"
      ]
     },
     "execution_count": 9,
     "metadata": {},
     "output_type": "execute_result"
    }
   ],
   "source": [
    "A = np.append(A,[3,55,34,553])\n",
    "A"
   ]
  },
  {
   "cell_type": "code",
   "execution_count": 13,
   "metadata": {},
   "outputs": [
    {
     "data": {
      "text/plain": [
       "array([  2,   2,   2,   2,   6, -16,  52, -21, 519])"
      ]
     },
     "execution_count": 13,
     "metadata": {},
     "output_type": "execute_result"
    }
   ],
   "source": [
    "np.diff(A,n=1)"
   ]
  },
  {
   "cell_type": "code",
   "execution_count": 12,
   "metadata": {},
   "outputs": [
    {
     "data": {
      "text/plain": [
       "array([  0,   0,   0,   4, -22,  68, -73, 540])"
      ]
     },
     "execution_count": 12,
     "metadata": {},
     "output_type": "execute_result"
    }
   ],
   "source": [
    "np.diff(A,n=2)"
   ]
  },
  {
   "cell_type": "code",
   "execution_count": 14,
   "metadata": {},
   "outputs": [
    {
     "data": {
      "text/plain": [
       "array([   0,    0,    4,  -26,   90, -141,  613])"
      ]
     },
     "execution_count": 14,
     "metadata": {},
     "output_type": "execute_result"
    }
   ],
   "source": [
    "np.diff(A,n=3)"
   ]
  },
  {
   "cell_type": "code",
   "execution_count": 21,
   "metadata": {
    "collapsed": true
   },
   "outputs": [],
   "source": [
    "a = [1,2,3]\n",
    "b = [4,5,6]\n",
    "c = [7,8,9]"
   ]
  },
  {
   "cell_type": "code",
   "execution_count": 22,
   "metadata": {},
   "outputs": [
    {
     "data": {
      "text/plain": [
       "array([[1, 2, 3],\n",
       "       [4, 5, 6],\n",
       "       [7, 8, 9]])"
      ]
     },
     "execution_count": 22,
     "metadata": {},
     "output_type": "execute_result"
    }
   ],
   "source": [
    "np.vstack((a,b,c))"
   ]
  },
  {
   "cell_type": "code",
   "execution_count": 23,
   "metadata": {},
   "outputs": [
    {
     "data": {
      "text/plain": [
       "array([[4, 5, 6],\n",
       "       [1, 2, 3],\n",
       "       [7, 8, 9]])"
      ]
     },
     "execution_count": 23,
     "metadata": {},
     "output_type": "execute_result"
    }
   ],
   "source": [
    "np.vstack((b,a,c))"
   ]
  },
  {
   "cell_type": "code",
   "execution_count": 25,
   "metadata": {},
   "outputs": [
    {
     "data": {
      "text/plain": [
       "array([[1, 4, 7],\n",
       "       [2, 5, 8],\n",
       "       [3, 6, 9]])"
      ]
     },
     "execution_count": 25,
     "metadata": {},
     "output_type": "execute_result"
    }
   ],
   "source": [
    "np.column_stack((a,b,c))"
   ]
  },
  {
   "cell_type": "code",
   "execution_count": 28,
   "metadata": {},
   "outputs": [
    {
     "data": {
      "text/plain": [
       "array([  5,   7,   9,  11,  13,  19,   3,  55,  34, 553])"
      ]
     },
     "execution_count": 28,
     "metadata": {},
     "output_type": "execute_result"
    }
   ],
   "source": [
    "A"
   ]
  },
  {
   "cell_type": "code",
   "execution_count": 29,
   "metadata": {},
   "outputs": [
    {
     "data": {
      "text/plain": [
       "array([ 9, 11])"
      ]
     },
     "execution_count": 29,
     "metadata": {},
     "output_type": "execute_result"
    }
   ],
   "source": [
    "A[2:5]   #N-1"
   ]
  },
  {
   "cell_type": "code",
   "execution_count": 30,
   "metadata": {},
   "outputs": [
    {
     "data": {
      "text/plain": [
       "array([5, 7, 9])"
      ]
     },
     "execution_count": 30,
     "metadata": {},
     "output_type": "execute_result"
    }
   ],
   "source": [
    "A[0:3] "
   ]
  },
  {
   "cell_type": "code",
   "execution_count": 31,
   "metadata": {
    "collapsed": true
   },
   "outputs": [],
   "source": [
    "#A[lowerbound(inclusive): upperbound(exclusive)]"
   ]
  },
  {
   "cell_type": "code",
   "execution_count": 32,
   "metadata": {},
   "outputs": [
    {
     "data": {
      "text/plain": [
       "array([  5,   7,   9,  11,  13,  19,   3,  55,  34, 553])"
      ]
     },
     "execution_count": 32,
     "metadata": {},
     "output_type": "execute_result"
    }
   ],
   "source": [
    "# broadcasting\n",
    "A"
   ]
  },
  {
   "cell_type": "code",
   "execution_count": 33,
   "metadata": {},
   "outputs": [
    {
     "data": {
      "text/plain": [
       "array([  6,   8,  10,  12,  14,  20,   4,  56,  35, 554])"
      ]
     },
     "execution_count": 33,
     "metadata": {},
     "output_type": "execute_result"
    }
   ],
   "source": [
    "A+1"
   ]
  },
  {
   "cell_type": "code",
   "execution_count": 34,
   "metadata": {},
   "outputs": [
    {
     "data": {
      "text/plain": [
       "array([  6,   8,  10,  12,  14,  20,   4,  56,  35, 554])"
      ]
     },
     "execution_count": 34,
     "metadata": {},
     "output_type": "execute_result"
    }
   ],
   "source": [
    "A+[1,1,1,1,1,1,1,1,1,1]"
   ]
  },
  {
   "cell_type": "code",
   "execution_count": 35,
   "metadata": {},
   "outputs": [
    {
     "data": {
      "text/plain": [
       "array([19, 22, 25, 28, 31])"
      ]
     },
     "execution_count": 35,
     "metadata": {},
     "output_type": "execute_result"
    }
   ],
   "source": [
    "B"
   ]
  },
  {
   "cell_type": "code",
   "execution_count": 37,
   "metadata": {},
   "outputs": [
    {
     "data": {
      "text/plain": [
       "array([  -5,   -7,   -9,  -11,  -13,  -19,   -3,  -55,  -34, -553])"
      ]
     },
     "execution_count": 37,
     "metadata": {},
     "output_type": "execute_result"
    }
   ],
   "source": [
    "A*-1"
   ]
  },
  {
   "cell_type": "code",
   "execution_count": null,
   "metadata": {
    "collapsed": true
   },
   "outputs": [],
   "source": []
  }
 ],
 "metadata": {
  "kernelspec": {
   "display_name": "Python 3",
   "language": "python",
   "name": "python3"
  },
  "language_info": {
   "codemirror_mode": {
    "name": "ipython",
    "version": 3
   },
   "file_extension": ".py",
   "mimetype": "text/x-python",
   "name": "python",
   "nbconvert_exporter": "python",
   "pygments_lexer": "ipython3",
   "version": "3.6.1"
  }
 },
 "nbformat": 4,
 "nbformat_minor": 2
}
